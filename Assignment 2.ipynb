{
 "cells": [
  {
   "cell_type": "code",
   "execution_count": 9,
   "metadata": {},
   "outputs": [
    {
     "name": "stdout",
     "output_type": "stream",
     "text": [
      "[4, 7, 98, 'tyr', [4, 9, 'tyj'], '', 'gfu', '6hy7']\n"
     ]
    }
   ],
   "source": [
    "l=[4,7,98,'tyr',[4,9,'tyj'],'',[],'gfu',[],'6hy7']\n",
    "for i in l:\n",
    "    if type(i)is list:\n",
    "        if len(i)==0:\n",
    "            l.remove(i)\n",
    "print(l)"
   ]
  },
  {
   "cell_type": "code",
   "execution_count": 2,
   "metadata": {},
   "outputs": [
    {
     "name": "stdout",
     "output_type": "stream",
     "text": [
      "enter a sentence:- The Rankine cycle is a thermodynamic cycle . Like other thermodynamic cycle , the maximum efficiency of the Ranking cycle is given by calculating the maximum efficiency of the carnot cycle .\n",
      "The Rankine cycle is a thermodynamic . Like other , the maximum efficiency of Ranking given by calculating carnot "
     ]
    }
   ],
   "source": [
    "s= input('enter a sentence:- ')\n",
    "l=[]\n",
    "t=s.split(' ')\n",
    "for word in t:\n",
    "    for i in l:\n",
    "        if i== word:\n",
    "            break\n",
    "    else:\n",
    "        l.append(word)\n",
    "        print(word,end=' ')"
   ]
  },
  {
   "cell_type": "code",
   "execution_count": 5,
   "metadata": {},
   "outputs": [
    {
     "name": "stdout",
     "output_type": "stream",
     "text": [
      "enter a string:- welcome\n",
      "e occured 2 times in string\n"
     ]
    }
   ],
   "source": [
    "str=input('enter a string:- ')\n",
    "i=None\n",
    "if str.find('e'):\n",
    "    i=str.find('e')\n",
    "    count=0\n",
    "while i>=0:\n",
    "    if str.find('e',i+1):\n",
    "        i=str.find('e',i+1)\n",
    "        count=count+1\n",
    "    else:\n",
    "        break\n",
    "print('e occured',count,'times in string')"
   ]
  }
 ],
 "metadata": {
  "kernelspec": {
   "display_name": "Python 3",
   "language": "python",
   "name": "python3"
  },
  "language_info": {
   "codemirror_mode": {
    "name": "ipython",
    "version": 3
   },
   "file_extension": ".py",
   "mimetype": "text/x-python",
   "name": "python",
   "nbconvert_exporter": "python",
   "pygments_lexer": "ipython3",
   "version": "3.8.3"
  }
 },
 "nbformat": 4,
 "nbformat_minor": 4
}
